{
 "cells": [
  {
   "cell_type": "code",
   "execution_count": 1,
   "metadata": {},
   "outputs": [],
   "source": [
    "import numpy as np\n",
    "import pandas as pd\n",
    "import vitaldb as vf\n",
    "import matplotlib.pyplot as plt"
   ]
  },
  {
   "cell_type": "code",
   "execution_count": 2,
   "metadata": {},
   "outputs": [],
   "source": [
    "case_list = list(pd.read_csv('dataset.csv')['caseid'])\n",
    "for i in case_list:\n",
    "    samples = vf.VitalFile(ipath = int(i), track_names = ['BIS/EMG'])\n",
    "    samples.to_vital(str(i).zfill(4)+'.vital')"
   ]
  }
 ],
 "metadata": {
  "kernelspec": {
   "display_name": "venv-non-metal",
   "language": "python",
   "name": "python3"
  },
  "language_info": {
   "codemirror_mode": {
    "name": "ipython",
    "version": 3
   },
   "file_extension": ".py",
   "mimetype": "text/x-python",
   "name": "python",
   "nbconvert_exporter": "python",
   "pygments_lexer": "ipython3",
   "version": "3.11.7"
  }
 },
 "nbformat": 4,
 "nbformat_minor": 2
}
