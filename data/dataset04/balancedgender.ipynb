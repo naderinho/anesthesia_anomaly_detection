{
 "cells": [
  {
   "cell_type": "code",
   "execution_count": 1,
   "metadata": {},
   "outputs": [
    {
     "name": "stdout",
     "output_type": "stream",
     "text": [
      "Male:  104 \tFemale:  51\n",
      "Drop  53  Male rows\n",
      "Male:  51 \tFemale:  51\n"
     ]
    }
   ],
   "source": [
    "import numpy as np\n",
    "import pandas as pd\n",
    "\n",
    "dataset = pd.read_csv('dataset_full.csv')\n",
    "\n",
    "m_index = dataset['sex'] == 'M'\n",
    "f_index = dataset['sex'] == 'F'\n",
    "\n",
    "print('Male: ', m_index.sum(), '\\tFemale: ',f_index.sum())\n",
    "\n",
    "print('Drop ',str(m_index.sum() - f_index.sum()), ' Male rows')\n",
    "\n",
    "random_entries = np.random.choice(m_index[m_index].index, size=m_index.sum() - f_index.sum(), replace=False)\n",
    "\n",
    "dataset.drop(random_entries, inplace=True)\n",
    "\n",
    "m_index = dataset['sex'] == 'M'\n",
    "f_index = dataset['sex'] == 'F'\n",
    "\n",
    "print('Male: ', m_index.sum(), '\\tFemale: ',f_index.sum())\n",
    "\n",
    "dataset.to_csv('dataset.csv', index=False)\n"
   ]
  }
 ],
 "metadata": {
  "kernelspec": {
   "display_name": "venv-non-metal",
   "language": "python",
   "name": "python3"
  },
  "language_info": {
   "codemirror_mode": {
    "name": "ipython",
    "version": 3
   },
   "file_extension": ".py",
   "mimetype": "text/x-python",
   "name": "python",
   "nbconvert_exporter": "python",
   "pygments_lexer": "ipython3",
   "version": "3.11.7"
  }
 },
 "nbformat": 4,
 "nbformat_minor": 2
}
