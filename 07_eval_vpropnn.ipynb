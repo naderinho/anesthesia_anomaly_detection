{
 "cells": [
  {
   "cell_type": "code",
   "execution_count": 1,
   "metadata": {},
   "outputs": [
    {
     "name": "stdout",
     "output_type": "stream",
     "text": [
      "Running locally\n"
     ]
    }
   ],
   "source": [
    "import tensorflow as tf\n",
    "\n",
    "### Configuration\n",
    "create_dataset = False\n",
    "\n",
    "def in_google_colab():\n",
    "    \"\"\"Checks if the code is running in Google Colab\n",
    "\n",
    "    Returns:\n",
    "        bool: _description_\n",
    "    \"\"\"\n",
    "    try:\n",
    "        import google.colab\n",
    "        return True\n",
    "    except ImportError:\n",
    "        return False\n",
    "\n",
    "if in_google_colab():\n",
    "    print(\"Running in Google Colab\")\n",
    "    # Install necessary packages in Google Colab\n",
    "    !rm -r sample_data/\n",
    "    !git clone https://github.com/naderinho/anesthesia_anomaly_detection\n",
    "    !cp -r anesthesia_anomaly_detection/* .\n",
    "    !rm -r anesthesia_anomaly_detection/\n",
    "    !pip install vitaldb\n",
    "    create_dataset = False\n",
    "else:\n",
    "    print(\"Running locally\")\n",
    "\n",
    "### Datasetpath\n",
    "directory = 'data/'\n",
    "datasetpath = 'dataset02/'\n",
    "vitaldbpath = 'vitaldb_tiva/'\n",
    "\n",
    "### Import the necessary libraries\n",
    "import numpy as np\n",
    "import pandas as pd\n",
    "import vitaldb as vf\n",
    "import matplotlib.pyplot as plt\n",
    "import pickle\n",
    "\n",
    "### Custom functions\n",
    "import modules as md"
   ]
  },
  {
   "cell_type": "code",
   "execution_count": 2,
   "metadata": {},
   "outputs": [],
   "source": [
    "### Load the datasets\n",
    "bis = md.VitalImport(directory= directory, dataset=datasetpath, vitalpath=vitaldbpath)\n",
    "bis.load('00_bis.npz')\n",
    "\n",
    "info = md.infoImport(directory= directory, dataset=datasetpath, vitalpath=vitaldbpath)\n",
    "info.load('01_info.npz')\n",
    "\n",
    "info_non_norm = md.infoImport(directory= directory, dataset=datasetpath, vitalpath=vitaldbpath)\n",
    "info_non_norm.load('01_info_norm_none.npz')\n",
    "\n",
    "bloodpressure = md.VitalImport(directory= directory, dataset=datasetpath, vitalpath=vitaldbpath)\n",
    "bloodpressure.load('02_bloodpressure.npz')\n",
    "\n",
    "etCO2 = md.VitalImport(directory= directory, dataset=datasetpath, vitalpath=vitaldbpath)\n",
    "etCO2.load('02_etCO2.npz')\n",
    "\n",
    "spO2 = md.VitalImport(directory= directory, dataset=datasetpath, vitalpath=vitaldbpath)\n",
    "spO2.load('02_spO2.npz')\n",
    "\n",
    "hr = md.VitalImport(directory= directory, dataset=datasetpath, vitalpath=vitaldbpath)\n",
    "hr.load('02_hr.npz')\n",
    "\n",
    "propofolrate = md.VitalImport(directory= directory, dataset=datasetpath, vitalpath=vitaldbpath)\n",
    "propofolrate.load('03_propofol_rate.npz')\n",
    "\n",
    "remifentanilrate = md.VitalImport(directory= directory, dataset=datasetpath, vitalpath=vitaldbpath)\n",
    "remifentanilrate.load('03_remifentanil_rate.npz')\n",
    "\n",
    "train_index, val_index, test_index = bis.split(np.array(bis.index))"
   ]
  },
  {
   "cell_type": "markdown",
   "metadata": {},
   "source": [
    "# Seperate the Data in + 60 years and older patients"
   ]
  },
  {
   "cell_type": "code",
   "execution_count": 3,
   "metadata": {},
   "outputs": [
    {
     "name": "stdout",
     "output_type": "stream",
     "text": [
      "(47,) (64,)\n",
      "(10,) (10,)\n",
      "(9,) (15,)\n"
     ]
    }
   ],
   "source": [
    "young_index_train = np.where(info_non_norm.train_dataset[:,1] <  60)\n",
    "old_index_train   = np.where(info_non_norm.train_dataset[:,1] >= 60)\n",
    "\n",
    "print(young_index_train[0].shape, old_index_train[0].shape)\n",
    "\n",
    "young_index_val = np.where(info_non_norm.validation_dataset[:,1] <  60)\n",
    "old_index_val   = np.where(info_non_norm.validation_dataset[:,1] >= 60)\n",
    "\n",
    "print(young_index_val[0].shape, old_index_val[0].shape)\n",
    "\n",
    "young_index_test = np.where(info_non_norm.test_dataset[:,1] <  60)\n",
    "old_index_test   = np.where(info_non_norm.test_dataset[:,1] >= 60)\n",
    "\n",
    "print(young_index_test[0].shape, old_index_test[0].shape)"
   ]
  },
  {
   "cell_type": "markdown",
   "metadata": {},
   "source": [
    "# Seperate the Data in Male and Female patients"
   ]
  },
  {
   "cell_type": "code",
   "execution_count": 4,
   "metadata": {},
   "outputs": [
    {
     "name": "stdout",
     "output_type": "stream",
     "text": [
      "(74,) (37,)\n",
      "(12,) (8,)\n",
      "(18,) (6,)\n"
     ]
    }
   ],
   "source": [
    "m_index_train = np.where(info.train_dataset[:,0] == 0.5)\n",
    "f_index_train = np.where(info.train_dataset[:,0] == -0.5)\n",
    "\n",
    "print(m_index_train[0].shape, f_index_train[0].shape)\n",
    "\n",
    "m_index_val = np.where(info.validation_dataset[:,0] == 0.5)\n",
    "f_index_val = np.where(info.validation_dataset[:,0] == -0.5)\n",
    "\n",
    "print(m_index_val[0].shape, f_index_val[0].shape)\n",
    "\n",
    "m_index_test = np.where(info.test_dataset[:,0] == 0.5)\n",
    "f_index_test = np.where(info.test_dataset[:,0] == -0.5)\n",
    "\n",
    "print(m_index_test[0].shape, f_index_test[0].shape)"
   ]
  },
  {
   "cell_type": "markdown",
   "metadata": {},
   "source": [
    "# Load prediction data"
   ]
  },
  {
   "cell_type": "code",
   "execution_count": 5,
   "metadata": {},
   "outputs": [],
   "source": [
    "# Load test prediction data\n",
    "with open('prediction.pkl', 'rb') as f:\n",
    "    y_pred = pickle.load(f)\n",
    "\n",
    "### Predict on the test set\n",
    "from utils.evaluation import phases_report, phases_report_std"
   ]
  },
  {
   "cell_type": "markdown",
   "metadata": {},
   "source": [
    "# Gesamt"
   ]
  },
  {
   "cell_type": "code",
   "execution_count": 6,
   "metadata": {},
   "outputs": [
    {
     "data": {
      "text/html": [
       "<div>\n",
       "<style scoped>\n",
       "    .dataframe tbody tr th:only-of-type {\n",
       "        vertical-align: middle;\n",
       "    }\n",
       "\n",
       "    .dataframe tbody tr th {\n",
       "        vertical-align: top;\n",
       "    }\n",
       "\n",
       "    .dataframe thead th {\n",
       "        text-align: right;\n",
       "    }\n",
       "</style>\n",
       "<table border=\"1\" class=\"dataframe\">\n",
       "  <thead>\n",
       "    <tr style=\"text-align: right;\">\n",
       "      <th></th>\n",
       "      <th>Prediction MSE</th>\n",
       "      <th>Baseline MSE</th>\n",
       "      <th>Prediction MAE</th>\n",
       "      <th>Baseline MAE</th>\n",
       "      <th>Prediction RMSE</th>\n",
       "      <th>Baseline RMSE</th>\n",
       "    </tr>\n",
       "  </thead>\n",
       "  <tbody>\n",
       "    <tr>\n",
       "      <th>All</th>\n",
       "      <td>81.40</td>\n",
       "      <td>139.87</td>\n",
       "      <td>6.90</td>\n",
       "      <td>7.55</td>\n",
       "      <td>9.02</td>\n",
       "      <td>11.83</td>\n",
       "    </tr>\n",
       "    <tr>\n",
       "      <th>Induction</th>\n",
       "      <td>177.50</td>\n",
       "      <td>637.60</td>\n",
       "      <td>10.73</td>\n",
       "      <td>18.34</td>\n",
       "      <td>13.32</td>\n",
       "      <td>25.25</td>\n",
       "    </tr>\n",
       "    <tr>\n",
       "      <th>Maintenance</th>\n",
       "      <td>65.01</td>\n",
       "      <td>60.90</td>\n",
       "      <td>6.25</td>\n",
       "      <td>5.68</td>\n",
       "      <td>8.06</td>\n",
       "      <td>7.80</td>\n",
       "    </tr>\n",
       "    <tr>\n",
       "      <th>Recovery</th>\n",
       "      <td>125.99</td>\n",
       "      <td>361.57</td>\n",
       "      <td>8.59</td>\n",
       "      <td>13.46</td>\n",
       "      <td>11.22</td>\n",
       "      <td>19.02</td>\n",
       "    </tr>\n",
       "  </tbody>\n",
       "</table>\n",
       "</div>"
      ],
      "text/plain": [
       "            Prediction MSE Baseline MSE Prediction MAE Baseline MAE  \\\n",
       "All                  81.40       139.87           6.90         7.55   \n",
       "Induction           177.50       637.60          10.73        18.34   \n",
       "Maintenance          65.01        60.90           6.25         5.68   \n",
       "Recovery            125.99       361.57           8.59        13.46   \n",
       "\n",
       "            Prediction RMSE Baseline RMSE  \n",
       "All                    9.02         11.83  \n",
       "Induction             13.32         25.25  \n",
       "Maintenance            8.06          7.80  \n",
       "Recovery              11.22         19.02  "
      ]
     },
     "execution_count": 6,
     "metadata": {},
     "output_type": "execute_result"
    }
   ],
   "source": [
    "all_rep = phases_report(y_pred, bis.test_dataset, propofolrate.test_dataset)\n",
    "all_rep"
   ]
  },
  {
   "cell_type": "markdown",
   "metadata": {},
   "source": [
    "# Testing Age"
   ]
  },
  {
   "cell_type": "markdown",
   "metadata": {},
   "source": [
    "## > 60 years"
   ]
  },
  {
   "cell_type": "code",
   "execution_count": 7,
   "metadata": {},
   "outputs": [
    {
     "data": {
      "text/html": [
       "<div>\n",
       "<style scoped>\n",
       "    .dataframe tbody tr th:only-of-type {\n",
       "        vertical-align: middle;\n",
       "    }\n",
       "\n",
       "    .dataframe tbody tr th {\n",
       "        vertical-align: top;\n",
       "    }\n",
       "\n",
       "    .dataframe thead th {\n",
       "        text-align: right;\n",
       "    }\n",
       "</style>\n",
       "<table border=\"1\" class=\"dataframe\">\n",
       "  <thead>\n",
       "    <tr style=\"text-align: right;\">\n",
       "      <th></th>\n",
       "      <th>Prediction MSE</th>\n",
       "      <th>Baseline MSE</th>\n",
       "      <th>Prediction MAE</th>\n",
       "      <th>Baseline MAE</th>\n",
       "      <th>Prediction RMSE</th>\n",
       "      <th>Baseline RMSE</th>\n",
       "    </tr>\n",
       "  </thead>\n",
       "  <tbody>\n",
       "    <tr>\n",
       "      <th>All</th>\n",
       "      <td>73.76</td>\n",
       "      <td>138.97</td>\n",
       "      <td>6.44</td>\n",
       "      <td>7.10</td>\n",
       "      <td>8.59</td>\n",
       "      <td>11.79</td>\n",
       "    </tr>\n",
       "    <tr>\n",
       "      <th>Induction</th>\n",
       "      <td>170.57</td>\n",
       "      <td>624.85</td>\n",
       "      <td>10.38</td>\n",
       "      <td>17.37</td>\n",
       "      <td>13.06</td>\n",
       "      <td>25.00</td>\n",
       "    </tr>\n",
       "    <tr>\n",
       "      <th>Maintenance</th>\n",
       "      <td>53.84</td>\n",
       "      <td>47.75</td>\n",
       "      <td>5.62</td>\n",
       "      <td>4.92</td>\n",
       "      <td>7.34</td>\n",
       "      <td>6.91</td>\n",
       "    </tr>\n",
       "    <tr>\n",
       "      <th>Recovery</th>\n",
       "      <td>125.36</td>\n",
       "      <td>374.76</td>\n",
       "      <td>8.51</td>\n",
       "      <td>13.62</td>\n",
       "      <td>11.20</td>\n",
       "      <td>19.36</td>\n",
       "    </tr>\n",
       "  </tbody>\n",
       "</table>\n",
       "</div>"
      ],
      "text/plain": [
       "            Prediction MSE Baseline MSE Prediction MAE Baseline MAE  \\\n",
       "All                  73.76       138.97           6.44         7.10   \n",
       "Induction           170.57       624.85          10.38        17.37   \n",
       "Maintenance          53.84        47.75           5.62         4.92   \n",
       "Recovery            125.36       374.76           8.51        13.62   \n",
       "\n",
       "            Prediction RMSE Baseline RMSE  \n",
       "All                    8.59         11.79  \n",
       "Induction             13.06         25.00  \n",
       "Maintenance            7.34          6.91  \n",
       "Recovery              11.20         19.36  "
      ]
     },
     "execution_count": 7,
     "metadata": {},
     "output_type": "execute_result"
    }
   ],
   "source": [
    "old_rep = phases_report(y_pred[old_index_test], bis.test_dataset[old_index_test], propofolrate.test_dataset[old_index_test])\n",
    "old_rep"
   ]
  },
  {
   "cell_type": "markdown",
   "metadata": {},
   "source": [
    "## < 60 years"
   ]
  },
  {
   "cell_type": "code",
   "execution_count": 8,
   "metadata": {},
   "outputs": [
    {
     "data": {
      "text/html": [
       "<div>\n",
       "<style scoped>\n",
       "    .dataframe tbody tr th:only-of-type {\n",
       "        vertical-align: middle;\n",
       "    }\n",
       "\n",
       "    .dataframe tbody tr th {\n",
       "        vertical-align: top;\n",
       "    }\n",
       "\n",
       "    .dataframe thead th {\n",
       "        text-align: right;\n",
       "    }\n",
       "</style>\n",
       "<table border=\"1\" class=\"dataframe\">\n",
       "  <thead>\n",
       "    <tr style=\"text-align: right;\">\n",
       "      <th></th>\n",
       "      <th>Prediction MSE</th>\n",
       "      <th>Baseline MSE</th>\n",
       "      <th>Prediction MAE</th>\n",
       "      <th>Baseline MAE</th>\n",
       "      <th>Prediction RMSE</th>\n",
       "      <th>Baseline RMSE</th>\n",
       "    </tr>\n",
       "  </thead>\n",
       "  <tbody>\n",
       "    <tr>\n",
       "      <th>All</th>\n",
       "      <td>92.96</td>\n",
       "      <td>141.25</td>\n",
       "      <td>7.60</td>\n",
       "      <td>8.23</td>\n",
       "      <td>9.64</td>\n",
       "      <td>11.88</td>\n",
       "    </tr>\n",
       "    <tr>\n",
       "      <th>Induction</th>\n",
       "      <td>189.70</td>\n",
       "      <td>660.01</td>\n",
       "      <td>11.34</td>\n",
       "      <td>20.05</td>\n",
       "      <td>13.77</td>\n",
       "      <td>25.69</td>\n",
       "    </tr>\n",
       "    <tr>\n",
       "      <th>Maintenance</th>\n",
       "      <td>80.66</td>\n",
       "      <td>79.34</td>\n",
       "      <td>7.13</td>\n",
       "      <td>6.76</td>\n",
       "      <td>8.98</td>\n",
       "      <td>8.91</td>\n",
       "    </tr>\n",
       "    <tr>\n",
       "      <th>Recovery</th>\n",
       "      <td>127.52</td>\n",
       "      <td>329.30</td>\n",
       "      <td>8.79</td>\n",
       "      <td>13.06</td>\n",
       "      <td>11.29</td>\n",
       "      <td>18.15</td>\n",
       "    </tr>\n",
       "  </tbody>\n",
       "</table>\n",
       "</div>"
      ],
      "text/plain": [
       "            Prediction MSE Baseline MSE Prediction MAE Baseline MAE  \\\n",
       "All                  92.96       141.25           7.60         8.23   \n",
       "Induction           189.70       660.01          11.34        20.05   \n",
       "Maintenance          80.66        79.34           7.13         6.76   \n",
       "Recovery            127.52       329.30           8.79        13.06   \n",
       "\n",
       "            Prediction RMSE Baseline RMSE  \n",
       "All                    9.64         11.88  \n",
       "Induction             13.77         25.69  \n",
       "Maintenance            8.98          8.91  \n",
       "Recovery              11.29         18.15  "
      ]
     },
     "execution_count": 8,
     "metadata": {},
     "output_type": "execute_result"
    }
   ],
   "source": [
    "young_rep = phases_report(y_pred[young_index_test], bis.test_dataset[young_index_test], propofolrate.test_dataset[young_index_test])\n",
    "young_rep"
   ]
  },
  {
   "cell_type": "code",
   "execution_count": 9,
   "metadata": {},
   "outputs": [
    {
     "data": {
      "image/png": "[encoded data removed]",
      "text/plain": [
       "<Figure size 393.701x314.961 with 1 Axes>"
      ]
     },
     "metadata": {},
     "output_type": "display_data"
    }
   ],
   "source": [
    "import numpy as np\n",
    "import pandas as pd\n",
    "from matplotlib import pyplot as plt\n",
    "from matplotlib.gridspec import GridSpec\n",
    "\n",
    "### Plot\n",
    "\n",
    "fig = plt.figure(figsize=(10/2.54, 8/2.54))\n",
    "label = ['Gesamt','> 60 a', '< 60 a']\n",
    "x_label = ['Gesamt','Einleitung', 'Narkose', 'Ausleitung']\n",
    "\n",
    "x = np.arange(len(x_label))  # the label locations\n",
    "width = 0.25  # the width of the bars\n",
    "multiplier = -1.5\n",
    "\n",
    "color1 = (0, 0, 0)\n",
    "color2 = (1, 1, 1)\n",
    "color3 = (159/255, 182/255, 196/255)\n",
    "color4 = (125/255, 102/255, 102/255)\n",
    "color5 = (153/255, 0, 0)\n",
    "\n",
    "colors =  [color1, color4, color3]\n",
    "report = [all_rep, old_rep, young_rep]\n",
    "\n",
    "for rep, color, lab in zip(report, colors, label):\n",
    "    offset = width * multiplier\n",
    "    rects = plt.bar(x + offset, list(rep[\"Prediction RMSE\"]), width, label=lab, color=color, edgecolor='black', linewidth=1.5, zorder=3)\n",
    "    multiplier += 1\n",
    "\n",
    "plt.legend(title='Testdatensatz', loc='upper right', ncol=1, bbox_to_anchor=(1.4, 1.04))\n",
    "\n",
    "plt.ylabel('Root Mean Squared Error $RMSE$')\n",
    "plt.xlabel('Narkosephase')\n",
    "plt.grid(True, linestyle='--',color='k', linewidth=1, zorder=0)\n",
    "\n",
    "\n",
    "# Axis settings\n",
    "ax = plt.gca()\n",
    "ax.spines['left'].set_linewidth(1.5)\n",
    "ax.spines['bottom'].set_linewidth(1.5)\n",
    "\n",
    "ax.set_ylim(bottom=0, top=15)\n",
    "\n",
    "# Einheiten auf y-Achse\n",
    "yunit = '--'\n",
    "ticks = list(range(0, 160, 25))\n",
    "ticks = [tick/10 for tick in ticks]\n",
    "ticks_with_units = [yunit if i == len(ticks) - 2 else ticks[i] for i in range(len(ticks))]\n",
    "ax.set_yticks(ticks)\n",
    "ax.set_yticklabels(ticks_with_units)\n",
    "\n",
    "ax.set_xticks(x)\n",
    "ax.set_xticklabels(x_label)\n",
    "\n",
    "plt.grid(axis='y', linewidth=1.0)\n",
    "\n",
    "x = 3.9\n",
    "#plt.text(x, 0, s='Modell: VProp', fontsize=10, fontweight='bold')\n",
    "\n",
    "plt.savefig('age_rmse.pdf', bbox_inches='tight', pad_inches=0.2, format='pdf')\n",
    "plt.show()"
   ]
  },
  {
   "cell_type": "markdown",
   "metadata": {},
   "source": [
    "# Testing Gender"
   ]
  },
  {
   "cell_type": "markdown",
   "metadata": {},
   "source": [
    "## Male"
   ]
  },
  {
   "cell_type": "code",
   "execution_count": 10,
   "metadata": {},
   "outputs": [
    {
     "data": {
      "text/html": [
       "<div>\n",
       "<style scoped>\n",
       "    .dataframe tbody tr th:only-of-type {\n",
       "        vertical-align: middle;\n",
       "    }\n",
       "\n",
       "    .dataframe tbody tr th {\n",
       "        vertical-align: top;\n",
       "    }\n",
       "\n",
       "    .dataframe thead th {\n",
       "        text-align: right;\n",
       "    }\n",
       "</style>\n",
       "<table border=\"1\" class=\"dataframe\">\n",
       "  <thead>\n",
       "    <tr style=\"text-align: right;\">\n",
       "      <th></th>\n",
       "      <th>Prediction MSE</th>\n",
       "      <th>Baseline MSE</th>\n",
       "      <th>Prediction MAE</th>\n",
       "      <th>Baseline MAE</th>\n",
       "      <th>Prediction RMSE</th>\n",
       "      <th>Baseline RMSE</th>\n",
       "    </tr>\n",
       "  </thead>\n",
       "  <tbody>\n",
       "    <tr>\n",
       "      <th>All</th>\n",
       "      <td>72.75</td>\n",
       "      <td>122.47</td>\n",
       "      <td>6.51</td>\n",
       "      <td>6.94</td>\n",
       "      <td>8.53</td>\n",
       "      <td>11.07</td>\n",
       "    </tr>\n",
       "    <tr>\n",
       "      <th>Induction</th>\n",
       "      <td>174.45</td>\n",
       "      <td>600.22</td>\n",
       "      <td>10.78</td>\n",
       "      <td>17.60</td>\n",
       "      <td>13.21</td>\n",
       "      <td>24.50</td>\n",
       "    </tr>\n",
       "    <tr>\n",
       "      <th>Maintenance</th>\n",
       "      <td>58.87</td>\n",
       "      <td>53.44</td>\n",
       "      <td>5.93</td>\n",
       "      <td>5.27</td>\n",
       "      <td>7.67</td>\n",
       "      <td>7.31</td>\n",
       "    </tr>\n",
       "    <tr>\n",
       "      <th>Recovery</th>\n",
       "      <td>104.52</td>\n",
       "      <td>335.83</td>\n",
       "      <td>7.76</td>\n",
       "      <td>12.74</td>\n",
       "      <td>10.22</td>\n",
       "      <td>18.33</td>\n",
       "    </tr>\n",
       "  </tbody>\n",
       "</table>\n",
       "</div>"
      ],
      "text/plain": [
       "            Prediction MSE Baseline MSE Prediction MAE Baseline MAE  \\\n",
       "All                  72.75       122.47           6.51         6.94   \n",
       "Induction           174.45       600.22          10.78        17.60   \n",
       "Maintenance          58.87        53.44           5.93         5.27   \n",
       "Recovery            104.52       335.83           7.76        12.74   \n",
       "\n",
       "            Prediction RMSE Baseline RMSE  \n",
       "All                    8.53         11.07  \n",
       "Induction             13.21         24.50  \n",
       "Maintenance            7.67          7.31  \n",
       "Recovery              10.22         18.33  "
      ]
     },
     "execution_count": 10,
     "metadata": {},
     "output_type": "execute_result"
    }
   ],
   "source": [
    "male_rep = phases_report(y_pred[m_index_test], bis.test_dataset[m_index_test], propofolrate.test_dataset[m_index_test])\n",
    "male_rep"
   ]
  },
  {
   "cell_type": "markdown",
   "metadata": {},
   "source": [
    "## Female"
   ]
  },
  {
   "cell_type": "code",
   "execution_count": 11,
   "metadata": {},
   "outputs": [
    {
     "data": {
      "text/html": [
       "<div>\n",
       "<style scoped>\n",
       "    .dataframe tbody tr th:only-of-type {\n",
       "        vertical-align: middle;\n",
       "    }\n",
       "\n",
       "    .dataframe tbody tr th {\n",
       "        vertical-align: top;\n",
       "    }\n",
       "\n",
       "    .dataframe thead th {\n",
       "        text-align: right;\n",
       "    }\n",
       "</style>\n",
       "<table border=\"1\" class=\"dataframe\">\n",
       "  <thead>\n",
       "    <tr style=\"text-align: right;\">\n",
       "      <th></th>\n",
       "      <th>Prediction MSE</th>\n",
       "      <th>Baseline MSE</th>\n",
       "      <th>Prediction MAE</th>\n",
       "      <th>Baseline MAE</th>\n",
       "      <th>Prediction RMSE</th>\n",
       "      <th>Baseline RMSE</th>\n",
       "    </tr>\n",
       "  </thead>\n",
       "  <tbody>\n",
       "    <tr>\n",
       "      <th>All</th>\n",
       "      <td>115.31</td>\n",
       "      <td>208.12</td>\n",
       "      <td>8.44</td>\n",
       "      <td>9.94</td>\n",
       "      <td>10.74</td>\n",
       "      <td>14.43</td>\n",
       "    </tr>\n",
       "    <tr>\n",
       "      <th>Induction</th>\n",
       "      <td>186.70</td>\n",
       "      <td>750.27</td>\n",
       "      <td>10.57</td>\n",
       "      <td>20.57</td>\n",
       "      <td>13.66</td>\n",
       "      <td>27.39</td>\n",
       "    </tr>\n",
       "    <tr>\n",
       "      <th>Maintenance</th>\n",
       "      <td>91.49</td>\n",
       "      <td>93.06</td>\n",
       "      <td>7.64</td>\n",
       "      <td>7.47</td>\n",
       "      <td>9.56</td>\n",
       "      <td>9.65</td>\n",
       "    </tr>\n",
       "    <tr>\n",
       "      <th>Recovery</th>\n",
       "      <td>182.10</td>\n",
       "      <td>428.86</td>\n",
       "      <td>10.77</td>\n",
       "      <td>15.33</td>\n",
       "      <td>13.49</td>\n",
       "      <td>20.71</td>\n",
       "    </tr>\n",
       "  </tbody>\n",
       "</table>\n",
       "</div>"
      ],
      "text/plain": [
       "            Prediction MSE Baseline MSE Prediction MAE Baseline MAE  \\\n",
       "All                 115.31       208.12           8.44         9.94   \n",
       "Induction           186.70       750.27          10.57        20.57   \n",
       "Maintenance          91.49        93.06           7.64         7.47   \n",
       "Recovery            182.10       428.86          10.77        15.33   \n",
       "\n",
       "            Prediction RMSE Baseline RMSE  \n",
       "All                   10.74         14.43  \n",
       "Induction             13.66         27.39  \n",
       "Maintenance            9.56          9.65  \n",
       "Recovery              13.49         20.71  "
      ]
     },
     "execution_count": 11,
     "metadata": {},
     "output_type": "execute_result"
    }
   ],
   "source": [
    "fem_rep = phases_report(y_pred[f_index_test], bis.test_dataset[f_index_test], propofolrate.test_dataset[f_index_test])\n",
    "fem_rep"
   ]
  },
  {
   "cell_type": "code",
   "execution_count": 14,
   "metadata": {},
   "outputs": [
    {
     "data": {
      "image/png": "[encoded data removed]",
      "text/plain": [
       "<Figure size 393.701x314.961 with 1 Axes>"
      ]
     },
     "metadata": {},
     "output_type": "display_data"
    }
   ],
   "source": [
    "import numpy as np\n",
    "import pandas as pd\n",
    "from matplotlib import pyplot as plt\n",
    "from matplotlib.gridspec import GridSpec\n",
    "\n",
    "### Plot\n",
    "\n",
    "fig = plt.figure(figsize=(10/2.54, 8/2.54))\n",
    "label = ['Gesamt','Männlich', 'Weiblich']\n",
    "x_label = ['Gesamt','Einleitung', 'Narkose', 'Ausleitung']\n",
    "\n",
    "x = np.arange(len(x_label))  # the label locations\n",
    "width = 0.25  # the width of the bars\n",
    "multiplier = -1.5\n",
    "\n",
    "color1 = (0, 0, 0)\n",
    "color2 = (1, 1, 1)\n",
    "color3 = (159/255, 182/255, 196/255)\n",
    "color4 = (125/255, 102/255, 102/255)\n",
    "color5 = (153/255, 0, 0)\n",
    "\n",
    "colors =  [color1, color4, color3]\n",
    "report = [all_rep, old_rep, young_rep]\n",
    "\n",
    "for rep, color, lab in zip(report, colors, label):\n",
    "    offset = width * multiplier\n",
    "    rects = plt.bar(x + offset, list(rep[\"Prediction RMSE\"]), width, label=lab, color=color, edgecolor='black', linewidth=1.5, zorder=3)\n",
    "    multiplier += 1\n",
    "\n",
    "plt.legend(title='Testdatensatz', loc='upper right', ncol=1, bbox_to_anchor=(1.43, 1.04))\n",
    "\n",
    "plt.ylabel('Root Mean Squared Error $RMSE$')\n",
    "plt.xlabel('Narkosephase')\n",
    "plt.grid(True, linestyle='--',color='k', linewidth=1, zorder=0)\n",
    "\n",
    "\n",
    "# Axis settings\n",
    "ax = plt.gca()\n",
    "ax.spines['left'].set_linewidth(1.5)\n",
    "ax.spines['bottom'].set_linewidth(1.5)\n",
    "\n",
    "ax.set_ylim(bottom=0, top=15)\n",
    "\n",
    "# Einheiten auf y-Achse\n",
    "yunit = '--'\n",
    "ticks = list(range(0, 160, 25))\n",
    "ticks = [tick/10 for tick in ticks]\n",
    "ticks_with_units = [yunit if i == len(ticks) - 2 else ticks[i] for i in range(len(ticks))]\n",
    "ax.set_yticks(ticks)\n",
    "ax.set_yticklabels(ticks_with_units)\n",
    "\n",
    "ax.set_xticks(x)\n",
    "ax.set_xticklabels(x_label)\n",
    "\n",
    "plt.grid(axis='y', linewidth=1.0)\n",
    "\n",
    "x = 3.9\n",
    "#plt.text(x, 0, s='Modell: VProp', fontsize=10, fontweight='bold')\n",
    "\n",
    "plt.savefig('gender_rmse.pdf', bbox_inches='tight', pad_inches=0.2, format='pdf')\n",
    "plt.show()"
   ]
  }
 ],
 "metadata": {
  "kernelspec": {
   "display_name": "venv-non-metal",
   "language": "python",
   "name": "python3"
  },
  "language_info": {
   "codemirror_mode": {
    "name": "ipython",
    "version": 3
   },
   "file_extension": ".py",
   "mimetype": "text/x-python",
   "name": "python",
   "nbconvert_exporter": "python",
   "pygments_lexer": "ipython3",
   "version": "3.11.7"
  }
 },
 "nbformat": 4,
 "nbformat_minor": 2
}
