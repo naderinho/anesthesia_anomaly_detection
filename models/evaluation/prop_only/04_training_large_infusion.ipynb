{
  "cells": [
    {
      "cell_type": "code",
      "execution_count": null,
      "metadata": {
        "colab": {
          "base_uri": "https://localhost:8080/"
        },
        "id": "tavUENs4OCgZ",
        "outputId": "edbea923-5a2f-4777-8795-b84db44533c2"
      },
      "outputs": [],
      "source": [
        "!pip uninstall tensorflow keras tf-keras -y\n",
        "!pip install tensorflow==2.15.0\n",
        "!pip install tf-keras==2.15.1\n",
        "!pip install keras==2.15.0"
      ]
    },
    {
      "cell_type": "markdown",
      "metadata": {
        "id": "PzE86Lxbur_Y"
      },
      "source": [
        "# Initialization"
      ]
    },
    {
      "cell_type": "code",
      "execution_count": null,
      "metadata": {
        "colab": {
          "base_uri": "https://localhost:8080/"
        },
        "id": "PsVCXc2r4g3c",
        "outputId": "5a3952e8-de3f-43bb-c926-56d1212c2948"
      },
      "outputs": [],
      "source": [
        "import tensorflow as tf\n",
        "\n",
        "### Configuration\n",
        "create_dataset = False\n",
        "\n",
        "def in_google_colab():\n",
        "    \"\"\"Checks if the code is running in Google Colab\n",
        "\n",
        "    Returns:\n",
        "        bool: _description_\n",
        "    \"\"\"\n",
        "    try:\n",
        "        import google.colab\n",
        "        return True\n",
        "    except ImportError:\n",
        "        return False\n",
        "\n",
        "if in_google_colab():\n",
        "    print(\"Running in Google Colab\")\n",
        "    # Install necessary packages in Google Colab\n",
        "    !rm -r sample_data/\n",
        "    !git clone https://github.com/naderinho/anesthesia_anomaly_detection\n",
        "    !cp -r anesthesia_anomaly_detection/* .\n",
        "    !rm -r anesthesia_anomaly_detection/\n",
        "    !pip install vitaldb\n",
        "    create_dataset = False\n",
        "else:\n",
        "    print(\"Running locally\")\n",
        "\n",
        "### Datasetpath\n",
        "directory = 'data/'\n",
        "datasetpath = 'dataset02/'\n",
        "vitaldbpath = 'vitaldb_tiva/'\n",
        "\n",
        "### Import the necessary libraries\n",
        "import numpy as np\n",
        "import pandas as pd\n",
        "import vitaldb as vf\n",
        "import matplotlib.pyplot as plt\n",
        "import pickle\n",
        "\n",
        "### Custom functions\n",
        "import modules as md"
      ]
    },
    {
      "cell_type": "markdown",
      "metadata": {
        "id": "tr2-stc8ur_e"
      },
      "source": [
        "# Data loading"
      ]
    },
    {
      "cell_type": "code",
      "execution_count": null,
      "metadata": {
        "id": "7QPUKpAQ4g3i"
      },
      "outputs": [],
      "source": [
        "###### Create Dataset\n",
        "if create_dataset:\n",
        "    bis = md.VitalImport(directory= directory, dataset=datasetpath, vitalpath=vitaldbpath)\n",
        "    bis.name = 'Bispektralindex'\n",
        "    bis.tracks = ['BIS/BIS']\n",
        "    bis.filter = [20, 10, 100]\n",
        "    bis.generateDataset(normalization=md.NormNone)\n",
        "    bis.save('00_bis.npz')\n",
        "\n",
        "    info = md.infoImport(directory= directory, dataset=datasetpath, vitalpath=vitaldbpath)\n",
        "    info.generateDataset(normalization=md.NormStandard)\n",
        "    info.save('01_info.npz')\n",
        "\n",
        "    propofolrate = md.VitalImport(directory= directory, dataset=datasetpath, vitalpath=vitaldbpath)\n",
        "    propofolrate.name = 'Propofol Rate'\n",
        "    propofolrate.tracks = ['Orchestra/PPF20_RATE']\n",
        "    propofolrate.filterON = False\n",
        "    propofolrate.generateDataset(normalization=md.NormNone)\n",
        "    propofolrate.save('03_propofol_rate.npz')\n",
        "\n",
        "### Load the datasets\n",
        "bis = md.VitalImport(directory= directory, dataset=datasetpath, vitalpath=vitaldbpath)\n",
        "bis.load('00_bis.npz')\n",
        "\n",
        "info = md.infoImport(directory= directory, dataset=datasetpath, vitalpath=vitaldbpath)\n",
        "info.load('01_info.npz')\n",
        "\n",
        "propofolrate = md.VitalImport(directory= directory, dataset=datasetpath, vitalpath=vitaldbpath)\n",
        "propofolrate.load('03_propofol_rate.npz')\n",
        "\n",
        "train_index, val_index, test_index = bis.split(np.array(bis.index))"
      ]
    },
    {
      "cell_type": "markdown",
      "metadata": {
        "id": "zJFhneqgur_g"
      },
      "source": [
        "# Model creation"
      ]
    },
    {
      "cell_type": "code",
      "execution_count": null,
      "metadata": {
        "colab": {
          "base_uri": "https://localhost:8080/"
        },
        "id": "auUnKLkV4g3j",
        "outputId": "7b796fb4-97c9-467a-9538-0a14aa471769"
      },
      "outputs": [],
      "source": [
        "########################################## COMBINED MODEL ##########################################\n",
        "import tensorflow as tf\n",
        "from tensorflow.keras.models import Model\n",
        "from tensorflow.keras.optimizers import Adam\n",
        "from tensorflow.keras.layers import Input, LSTM, Dense, ReLU, Dropout, Concatenate, Masking, Conv1D, MaxPooling1D, BatchNormalization, RepeatVector, Lambda\n",
        "from tensorflow.keras.metrics import RootMeanSquaredError, MeanSquaredError, MeanAbsoluteError, MeanAbsolutePercentageError\n",
        "\n",
        "# Prpofol layers\n",
        "input_propofol = Input(shape=(None, propofolrate.train_dataset.shape[2]))\n",
        "propofol_layer = Masking(mask_value=0.0)(input_propofol)\n",
        "propofol_layer = BatchNormalization()(propofol_layer)\n",
        "propofol_layer = LSTM(units=64, return_sequences=True)(propofol_layer)\n",
        "propofol_layer = BatchNormalization()(propofol_layer)\n",
        "propofol_layer = LSTM(units=64, return_sequences=True)(propofol_layer)\n",
        "propofol_layer = BatchNormalization()(propofol_layer)\n",
        "propofol_layer = LSTM(units=64, return_sequences=True)(propofol_layer)\n",
        "propofol_layer = BatchNormalization()(propofol_layer)\n",
        "propofol_layer = LSTM(units=64, return_sequences=True)(propofol_layer)\n",
        "propofol_layer = BatchNormalization()(propofol_layer)\n",
        "propofol_layer = LSTM(units=128, return_sequences=True)(propofol_layer)\n",
        "propofol_layer = BatchNormalization()(propofol_layer)\n",
        "propofol_layer = LSTM(units=64, return_sequences=True)(propofol_layer)\n",
        "propofol_layer = BatchNormalization()(propofol_layer)\n",
        "propofol_layer = LSTM(units=16, return_sequences=True)(propofol_layer)\n",
        "propofol_layer = BatchNormalization()(propofol_layer)\n",
        "propofol_layer = LSTM(units=16, return_sequences=True)(propofol_layer)\n",
        "propofol_layer = BatchNormalization()(propofol_layer)\n",
        "propofol_layer = Dense(units=16, activation='linear')(propofol_layer)\n",
        "\n",
        "### INFO layers\n",
        "input_info = Input(shape=(info.train_dataset.shape[1],))\n",
        "info_layer = RepeatVector(propofolrate.train_dataset.shape[1])(input_info)\n",
        "info_layer = Dense(units=16, activation='linear')(info_layer)\n",
        "info_layer = Dense(units=16, activation='sigmoid')(info_layer)\n",
        "\n",
        "\n",
        "## Concatenate the Propofol output with the info layer\n",
        "comb_layer = Concatenate()([propofol_layer, info_layer])\n",
        "comb_layer = Dense(units=64, activation='linear')(comb_layer)\n",
        "comb_layer = Dense(units=64, activation='relu')(comb_layer)\n",
        "comb_layer = Dense(units=64, activation='relu')(comb_layer)\n",
        "comb_layer = Dense(units=32, activation='relu')(comb_layer)\n",
        "comb_layer = Dense(units=16, activation='relu')(comb_layer)\n",
        "comb_layer = Dense(units=1, activation=ReLU(max_value=1.0))(comb_layer)\n",
        "output = Lambda(lambda x: x * 100)(comb_layer)\n",
        "\n",
        "# Define the model\n",
        "model = Model(inputs=[input_propofol, input_info], outputs=output)\n",
        "\n",
        "# Compile the model\n",
        "optimizer = Adam(learning_rate=0.0005)\n",
        "\n",
        "model.compile(optimizer=optimizer,\n",
        "              loss=tf.keras.losses.MeanSquaredError(),\n",
        "              metrics=['MeanSquaredError','MeanAbsoluteError','RootMeanSquaredError']\n",
        "              )\n",
        "\n",
        "model.summary()"
      ]
    },
    {
      "cell_type": "markdown",
      "metadata": {
        "id": "kUhwVmUIur_h"
      },
      "source": [
        "# Model Training"
      ]
    },
    {
      "cell_type": "code",
      "execution_count": null,
      "metadata": {
        "colab": {
          "base_uri": "https://localhost:8080/"
        },
        "id": "RrU25UfIur_h",
        "outputId": "523dd2f2-7bd6-48ca-89a4-544583605455"
      },
      "outputs": [],
      "source": [
        "# Rolling mean on BIS data\n",
        "y = pd.DataFrame(bis.train_dataset[:,:,0].T).rolling(min_periods=1,window=3, center=True).mean().to_numpy().T[:,:,np.newaxis]\n",
        "\n",
        "class SaveModelHistoryCallback(tf.keras.callbacks.Callback):\n",
        "    def __init__(self, save_interval, model_path, history_path):\n",
        "        super(SaveModelHistoryCallback, self).__init__()\n",
        "        self.save_interval = save_interval\n",
        "        self.model_path = model_path\n",
        "        self.history_path = history_path\n",
        "        self.history = []\n",
        "\n",
        "    def on_epoch_end(self, epoch, logs=None):\n",
        "        if (epoch + 1) % self.save_interval == 0:\n",
        "            # Save model\n",
        "            self.model.save(self.model_path.format(epoch=epoch+1))\n",
        "            # Save history\n",
        "            self.history.append(logs)\n",
        "            with open(self.history_path.format(epoch=epoch+1), 'wb') as f:\n",
        "                pickle.dump(self.history, f)\n",
        "\n",
        "save_interval = 20\n",
        "model_path = 'model_epoch_{epoch}.h5'\n",
        "history_path = 'history_epoch_{epoch}.pkl'\n",
        "save_model_history_callback = SaveModelHistoryCallback(save_interval, model_path, history_path)\n",
        "\n",
        "\n",
        "if in_google_colab():\n",
        "    # Train the model\n",
        "    history = model.fit([propofolrate.train_dataset, info.train_dataset],\n",
        "                        y,\n",
        "                        validation_data=([propofolrate.validation_dataset, info.validation_dataset], bis.validation_dataset),\n",
        "                        epochs=150,\n",
        "                        callbacks=[save_model_history_callback],\n",
        "                        batch_size=4\n",
        "                        )\n",
        "\n",
        "    train_score = history.history\n",
        "\n",
        "    # Save the model\n",
        "    model.save('download/model.keras')\n",
        "\n",
        "    # Save the training history\n",
        "    with open('download/train_score.pkl', 'wb') as f:\n",
        "        pickle.dump(train_score, f)\n",
        "\n",
        "    # Save the prediction\n",
        "    y_pred = model.predict([propofolrate.test_dataset], verbose=0)\n",
        "    with open('download/prediction.pkl', 'wb') as f:\n",
        "        pickle.dump(y_pred, f)\n",
        "\n",
        "else:\n",
        "    # Load train score data\n",
        "    with open('train_score.pkl', 'rb') as f:\n",
        "        train_score = pickle.load(f)\n",
        "\n",
        "    # Load test prediction data\n",
        "    with open('prediction.pkl', 'rb') as f:\n",
        "        y_pred = pickle.load(f)"
      ]
    },
    {
      "cell_type": "markdown",
      "metadata": {
        "id": "er3oau6Hur_i"
      },
      "source": [
        "# Training results"
      ]
    },
    {
      "cell_type": "code",
      "execution_count": null,
      "metadata": {
        "colab": {
          "base_uri": "https://localhost:8080/",
          "height": 322
        },
        "id": "HEOhR_-Dur_i",
        "outputId": "b7985fc7-02cf-4ffb-92c3-4236f2d1a2eb"
      },
      "outputs": [],
      "source": [
        "from utils.plotting import training_loss_plot\n",
        "\n",
        "plot = training_loss_plot(train_score, filename='download/training_loss.pdf')\n",
        "plot.show()"
      ]
    },
    {
      "cell_type": "markdown",
      "metadata": {
        "id": "mWobHh-hur_i"
      },
      "source": [
        "# Testing"
      ]
    },
    {
      "cell_type": "code",
      "execution_count": null,
      "metadata": {
        "colab": {
          "base_uri": "https://localhost:8080/",
          "height": 190
        },
        "id": "BzOK71uhur_i",
        "outputId": "dcf6490d-36a3-4f6b-c252-e50a39e05af2"
      },
      "outputs": [],
      "source": [
        "### Predict on the test set\n",
        "from utils.evaluation import phases_report, phases_report_std\n",
        "\n",
        "print('Testmetriken:')\n",
        "\n",
        "report = phases_report(y_pred, bis.test_dataset, propofolrate.test_dataset)\n",
        "report"
      ]
    },
    {
      "cell_type": "code",
      "execution_count": null,
      "metadata": {
        "colab": {
          "base_uri": "https://localhost:8080/",
          "height": 241
        },
        "id": "5ywLNXNIur_j",
        "outputId": "9e33a0f8-678d-4269-f304-5357f9e99469"
      },
      "outputs": [],
      "source": [
        "phases_report_std(report, y_pred, bis.test_dataset, propofolrate.test_dataset)"
      ]
    },
    {
      "cell_type": "code",
      "execution_count": null,
      "metadata": {
        "colab": {
          "base_uri": "https://localhost:8080/",
          "height": 271
        },
        "id": "WtaMBkZcur_j",
        "outputId": "43192736-c633-4498-cdb7-942404d239f5"
      },
      "outputs": [],
      "source": [
        "from utils.plotting import full_histogramm_plot\n",
        "\n",
        "plot = full_histogramm_plot(groundtruth = bis.test_dataset, prediction = y_pred, filename='download/histogramm.pdf')\n",
        "plot.show()"
      ]
    },
    {
      "cell_type": "code",
      "execution_count": null,
      "metadata": {
        "colab": {
          "base_uri": "https://localhost:8080/",
          "height": 1000
        },
        "id": "RkT4DZDpur_j",
        "outputId": "635c8871-559c-46d7-83a7-1976ac22dc39"
      },
      "outputs": [],
      "source": [
        "from utils.plotting import single_prediction_plot\n",
        "\n",
        "for case in test_index:\n",
        "    single_prediction_plot(\n",
        "        case = case,\n",
        "        index = test_index,\n",
        "        groundtruth = bis.test_dataset,\n",
        "        prediction = y_pred,\n",
        "        infusion = propofolrate.test_dataset,\n",
        "        error = 'Prediction RMSE',\n",
        "        filename = 'download/' + str(case) + '.pdf')\n",
        "\n",
        "print('Finished')"
      ]
    },
    {
      "cell_type": "code",
      "execution_count": null,
      "metadata": {
        "colab": {
          "base_uri": "https://localhost:8080/",
          "height": 1000
        },
        "id": "mQlGKdQvur_k",
        "outputId": "d410ab48-8ab8-417e-8806-e8ffac138289"
      },
      "outputs": [],
      "source": [
        "from utils.plotting import full_prediction_plot\n",
        "\n",
        "full_prediction_plot(index = test_index, groundtruth = bis.test_dataset, prediction = y_pred, infusion = propofolrate.test_dataset)"
      ]
    }
  ],
  "metadata": {
    "accelerator": "GPU",
    "colab": {
      "gpuType": "T4",
      "provenance": []
    },
    "kernelspec": {
      "display_name": "Python 3",
      "name": "python3"
    },
    "language_info": {
      "codemirror_mode": {
        "name": "ipython",
        "version": 3
      },
      "file_extension": ".py",
      "mimetype": "text/x-python",
      "name": "python",
      "nbconvert_exporter": "python",
      "pygments_lexer": "ipython3",
      "version": "3.11.7"
    }
  },
  "nbformat": 4,
  "nbformat_minor": 0
}
