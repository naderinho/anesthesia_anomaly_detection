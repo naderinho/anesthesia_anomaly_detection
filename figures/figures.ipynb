{
 "cells": [
  {
   "cell_type": "code",
   "execution_count": 28,
   "metadata": {},
   "outputs": [
    {
     "data": {
      "image/png": "[encoded data removed]",
      "text/plain": [
       "<Figure size 236.22x236.22 with 1 Axes>"
      ]
     },
     "metadata": {},
     "output_type": "display_data"
    }
   ],
   "source": [
    "from matplotlib import pyplot as plt\n",
    "import numpy as np\n",
    "\n",
    "\n",
    "plt.figure(figsize=(6/2.54, 6/2.54))\n",
    "\n",
    "\n",
    "plt.rcParams['font.size'] = 10\n",
    "\n",
    "x = np.linspace(-10, 10, 1000)\n",
    "\n",
    "# Colors\n",
    "color1 = (0, 0, 0)\n",
    "color2 = (1, 1, 1)\n",
    "color3 = (159/255, 182/255, 196/255)\n",
    "color4 = (125/255, 102/255, 102/255)\n",
    "color5 = (153/255, 0, 0)\n",
    "\n",
    "# Actual plot\n",
    "#plt.plot(x,np.maximum(0,x), label='ReLU', color='k',linewidth=2, markerfacecolor='k')\n",
    "#plt.plot(x,x, label='Linear', color='k', markerfacecolor='k')\n",
    "plt.plot(x,np.tanh(x), label='Tanh', color='k', markerfacecolor='k')\n",
    "#plt.plot(x,1/(1+np.exp(-x)), label='Sigmoid', color='k', markerfacecolor='k')\n",
    "#plt.axis('equal')\n",
    "\n",
    "plt.xticks((-10,0,10))\n",
    "plt.yticks((-1, 0, 1))\n",
    "\n",
    "# Title and labels\n",
    "\n",
    "#plt.legend()\n",
    "\n",
    "# Axis settings\n",
    "ax = plt.gca()\n",
    "ax.spines['left'].set_linewidth(1)\n",
    "ax.spines['bottom'].set_linewidth(1)\n",
    "\n",
    "\n",
    "plt.grid(True, linewidth=1.0)\n",
    "\n",
    "plt.savefig('activations/4_3_tanh.pdf', bbox_inches='tight', pad_inches=0.2, format='pdf')\n",
    "plt.show()"
   ]
  }
 ],
 "metadata": {
  "kernelspec": {
   "display_name": "venv-non-metal",
   "language": "python",
   "name": "python3"
  },
  "language_info": {
   "codemirror_mode": {
    "name": "ipython",
    "version": 3
   },
   "file_extension": ".py",
   "mimetype": "text/x-python",
   "name": "python",
   "nbconvert_exporter": "python",
   "pygments_lexer": "ipython3",
   "version": "3.11.7"
  }
 },
 "nbformat": 4,
 "nbformat_minor": 2
}
