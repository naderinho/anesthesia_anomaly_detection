{
  "cells": [
    {
      "cell_type": "code",
      "execution_count": 1,
      "metadata": {
        "colab": {
          "base_uri": "https://localhost:8080/"
        },
        "id": "PsVCXc2r4g3c",
        "outputId": "072c1724-5499-48cb-af6c-131e931b13b5"
      },
      "outputs": [
        {
          "name": "stdout",
          "output_type": "stream",
          "text": [
            "Running locally\n"
          ]
        }
      ],
      "source": [
        "import tensorflow as tf\n",
        "\n",
        "### Configuration\n",
        "create_dataset = False\n",
        "\n",
        "def in_google_colab():\n",
        "    \"\"\"Checks if the code is running in Google Colab\n",
        "\n",
        "    Returns:\n",
        "        bool: _description_\n",
        "    \"\"\"\n",
        "    try:\n",
        "        import google.colab\n",
        "        return True\n",
        "    except ImportError:\n",
        "        return False\n",
        "\n",
        "if in_google_colab():\n",
        "    print(\"Running in Google Colab\")\n",
        "    # Install necessary packages in Google Colab\n",
        "    !rm -r sample_data/\n",
        "    !git clone https://github.com/naderinho/anesthesia_anomaly_detection\n",
        "    !cp -r anesthesia_anomaly_detection/* .\n",
        "    !rm -r anesthesia_anomaly_detection/\n",
        "    !pip install vitaldb\n",
        "    create_dataset = False\n",
        "else:\n",
        "    print(\"Running locally\")\n",
        "\n",
        "### Datasetpath\n",
        "directory = 'data/'\n",
        "datasetpath = 'dataset02/'\n",
        "vitaldbpath = 'vitaldb_tiva/'\n",
        "\n",
        "### Import the necessary libraries\n",
        "import numpy as np\n",
        "import pandas as pd\n",
        "import vitaldb as vf\n",
        "import matplotlib.pyplot as plt\n",
        "\n",
        "### Custom functions\n",
        "import modules as md"
      ]
    },
    {
      "cell_type": "code",
      "execution_count": 2,
      "metadata": {
        "id": "7QPUKpAQ4g3i"
      },
      "outputs": [],
      "source": [
        "###### Create Dataset\n",
        "if create_dataset:\n",
        "    bis = md.VitalImport(directory= directory, dataset=datasetpath, vitalpath=vitaldbpath)\n",
        "    bis.name = 'Bispektralindex'\n",
        "    bis.tracks = ['BIS/BIS']\n",
        "    bis.filter = [20, 10, 100]\n",
        "    bis.generateDataset(normalization=md.NormNone)\n",
        "    bis.save('00_bis.npz')\n",
        "\n",
        "    info = md.infoImport(directory= directory, dataset=datasetpath, vitalpath=vitaldbpath)\n",
        "    info.generateDataset(normalization=md.NormStandard)\n",
        "    info.save('01_info.npz')\n",
        "\n",
        "    bloodpressure = md.VitalImport(directory= directory, dataset=datasetpath, vitalpath=vitaldbpath)\n",
        "    bloodpressure.name = 'bloodpressure'\n",
        "    bloodpressure.tracks = ['Solar8000/ART_DBP', 'Solar8000/ART_MBP', 'Solar8000/ART_SBP']\n",
        "    bloodpressure.filter = [20, 20, 250]\n",
        "    bloodpressure.generateDataset(normalization=md.NormStandard)\n",
        "    bloodpressure.save('02_bloodpressure.npz')\n",
        "\n",
        "    etCO2 = md.VitalImport(directory= directory, dataset=datasetpath, vitalpath=vitaldbpath)\n",
        "    etCO2.name = 'End Tidal CO2'\n",
        "    etCO2.tracks = ['Primus/ETCO2']\n",
        "    etCO2.filter = [5, 15, 50]\n",
        "    etCO2.generateDataset(normalization=md.NormStandard)\n",
        "    etCO2.save('02_etCO2.npz')\n",
        "\n",
        "    spO2 = md.VitalImport(directory= directory, dataset=datasetpath, vitalpath=vitaldbpath)\n",
        "    spO2.name = 'SpO2'\n",
        "    spO2.tracks = ['Solar8000/PLETH_SPO2']\n",
        "    spO2.filter = [3, 80, 100]\n",
        "    spO2.generateDataset(normalization=md.NormStandard)\n",
        "    spO2.save('02_spO2.npz')\n",
        "\n",
        "    hr = md.VitalImport(directory= directory, dataset=datasetpath, vitalpath=vitaldbpath)\n",
        "    hr.name = 'Heart Rate'\n",
        "    hr.tracks = ['Solar8000/HR']\n",
        "    hr.filter = [20, 40, 180]\n",
        "    hr.generateDataset(normalization=md.NormStandard)\n",
        "    hr.save('02_hr.npz')\n",
        "\n",
        "    propofolrate = md.VitalImport(directory= directory, dataset=datasetpath, vitalpath=vitaldbpath)\n",
        "    propofolrate.name = 'Propofol Rate'\n",
        "    propofolrate.tracks = ['Orchestra/PPF20_RATE']\n",
        "    propofolrate.filterON = False\n",
        "    propofolrate.generateDataset(normalization=md.NormNone)\n",
        "    propofolrate.save('03_propofol_rate.npz')\n",
        "\n",
        "    propofolvol = md.VitalImport(directory= directory, dataset=datasetpath, vitalpath=vitaldbpath)\n",
        "    propofolvol.name = 'Propofol Volume'\n",
        "    propofolvol.tracks = ['Orchestra/PPF20_VOL']\n",
        "    propofolvol.filterON = False\n",
        "    propofolvol.filter = [2, 0, 500]\n",
        "    propofolvol.generateDataset(normalization=md.NormNone)\n",
        "    propofolvol.save('03_propofol_vol.npz')\n",
        "\n",
        "### Load the datasets\n",
        "bis = md.VitalImport(directory= directory, dataset=datasetpath, vitalpath=vitaldbpath)\n",
        "bis.load('00_bis.npz')\n",
        "\n",
        "info = md.infoImport(directory= directory, dataset=datasetpath, vitalpath=vitaldbpath)\n",
        "info.load('01_info.npz')\n",
        "\n",
        "bloodpressure = md.VitalImport(directory= directory, dataset=datasetpath, vitalpath=vitaldbpath)\n",
        "bloodpressure.load('02_bloodpressure.npz')\n",
        "\n",
        "etCO2 = md.VitalImport(directory= directory, dataset=datasetpath, vitalpath=vitaldbpath)\n",
        "etCO2.load('02_etCO2.npz')\n",
        "\n",
        "spO2 = md.VitalImport(directory= directory, dataset=datasetpath, vitalpath=vitaldbpath)\n",
        "spO2.load('02_spO2.npz')\n",
        "\n",
        "hr = md.VitalImport(directory= directory, dataset=datasetpath, vitalpath=vitaldbpath)\n",
        "hr.load('02_hr.npz')\n",
        "\n",
        "propofolrate = md.VitalImport(directory= directory, dataset=datasetpath, vitalpath=vitaldbpath)\n",
        "propofolrate.load('03_propofol_rate.npz')\n",
        "\n",
        "propofolvol = md.VitalImport(directory= directory, dataset=datasetpath, vitalpath=vitaldbpath)\n",
        "propofolvol.load('03_propofol_vol.npz')\n",
        "\n",
        "train_index, val_index, test_index = bis.split(np.array(bis.index))"
      ]
    },
    {
      "cell_type": "code",
      "execution_count": 3,
      "metadata": {
        "colab": {
          "base_uri": "https://localhost:8080/"
        },
        "id": "auUnKLkV4g3j",
        "outputId": "31e101db-a25d-46ea-a3ff-000922cf0468"
      },
      "outputs": [
        {
          "name": "stderr",
          "output_type": "stream",
          "text": [
            "WARNING:absl:At this time, the v2.11+ optimizer `tf.keras.optimizers.Adam` runs slowly on M1/M2 Macs, please use the legacy Keras optimizer instead, located at `tf.keras.optimizers.legacy.Adam`.\n"
          ]
        },
        {
          "name": "stdout",
          "output_type": "stream",
          "text": [
            "Epoch 1/30\n",
            "28/28 [==============================] - 1s 9ms/step - loss: 289.9210 - mean_squared_error: 289.9210 - mean_absolute_error: 10.8565 - root_mean_squared_error: 17.0271 - val_loss: 1760.5492 - val_mean_squared_error: 1760.5491 - val_mean_absolute_error: 40.5834 - val_root_mean_squared_error: 41.9589\n",
            "Epoch 2/30\n",
            "28/28 [==============================] - 0s 6ms/step - loss: 145.6609 - mean_squared_error: 145.6609 - mean_absolute_error: 8.4842 - root_mean_squared_error: 12.0690 - val_loss: 1327.5076 - val_mean_squared_error: 1327.5076 - val_mean_absolute_error: 34.9792 - val_root_mean_squared_error: 36.4350\n",
            "Epoch 3/30\n",
            "28/28 [==============================] - 0s 6ms/step - loss: 114.5857 - mean_squared_error: 114.5857 - mean_absolute_error: 7.6768 - root_mean_squared_error: 10.7045 - val_loss: 820.3794 - val_mean_squared_error: 820.3793 - val_mean_absolute_error: 27.1994 - val_root_mean_squared_error: 28.6423\n",
            "Epoch 4/30\n",
            "28/28 [==============================] - 0s 6ms/step - loss: 106.3638 - mean_squared_error: 106.3638 - mean_absolute_error: 7.4643 - root_mean_squared_error: 10.3133 - val_loss: 583.0988 - val_mean_squared_error: 583.0987 - val_mean_absolute_error: 22.7345 - val_root_mean_squared_error: 24.1474\n",
            "Epoch 5/30\n",
            "28/28 [==============================] - 0s 6ms/step - loss: 93.3136 - mean_squared_error: 93.3137 - mean_absolute_error: 6.6258 - root_mean_squared_error: 9.6599 - val_loss: 391.7002 - val_mean_squared_error: 391.7002 - val_mean_absolute_error: 18.2235 - val_root_mean_squared_error: 19.7914\n",
            "Epoch 6/30\n",
            "28/28 [==============================] - 0s 6ms/step - loss: 76.5808 - mean_squared_error: 76.5808 - mean_absolute_error: 5.6847 - root_mean_squared_error: 8.7510 - val_loss: 335.2003 - val_mean_squared_error: 335.2002 - val_mean_absolute_error: 16.7470 - val_root_mean_squared_error: 18.3085\n",
            "Epoch 7/30\n",
            "28/28 [==============================] - 0s 6ms/step - loss: 71.3371 - mean_squared_error: 71.3371 - mean_absolute_error: 5.2280 - root_mean_squared_error: 8.4461 - val_loss: 252.6143 - val_mean_squared_error: 252.6143 - val_mean_absolute_error: 14.0100 - val_root_mean_squared_error: 15.8938\n",
            "Epoch 8/30\n",
            "28/28 [==============================] - 0s 6ms/step - loss: 73.6601 - mean_squared_error: 73.6601 - mean_absolute_error: 5.2529 - root_mean_squared_error: 8.5825 - val_loss: 176.4294 - val_mean_squared_error: 176.4294 - val_mean_absolute_error: 10.5908 - val_root_mean_squared_error: 13.2827\n",
            "Epoch 9/30\n",
            "28/28 [==============================] - 0s 6ms/step - loss: 70.7452 - mean_squared_error: 70.7452 - mean_absolute_error: 4.7798 - root_mean_squared_error: 8.4110 - val_loss: 166.9966 - val_mean_squared_error: 166.9966 - val_mean_absolute_error: 10.9427 - val_root_mean_squared_error: 12.9227\n",
            "Epoch 10/30\n",
            "28/28 [==============================] - 0s 7ms/step - loss: 66.7769 - mean_squared_error: 66.7769 - mean_absolute_error: 4.6386 - root_mean_squared_error: 8.1717 - val_loss: 151.1581 - val_mean_squared_error: 151.1581 - val_mean_absolute_error: 9.8278 - val_root_mean_squared_error: 12.2946\n",
            "Epoch 11/30\n",
            "28/28 [==============================] - 0s 6ms/step - loss: 60.6194 - mean_squared_error: 60.6194 - mean_absolute_error: 4.3461 - root_mean_squared_error: 7.7858 - val_loss: 126.3373 - val_mean_squared_error: 126.3373 - val_mean_absolute_error: 8.6461 - val_root_mean_squared_error: 11.2400\n",
            "Epoch 12/30\n",
            "28/28 [==============================] - 0s 6ms/step - loss: 65.7042 - mean_squared_error: 65.7042 - mean_absolute_error: 4.4459 - root_mean_squared_error: 8.1058 - val_loss: 122.0908 - val_mean_squared_error: 122.0908 - val_mean_absolute_error: 7.7065 - val_root_mean_squared_error: 11.0495\n",
            "Epoch 13/30\n",
            "28/28 [==============================] - 0s 6ms/step - loss: 61.9785 - mean_squared_error: 61.9786 - mean_absolute_error: 4.2664 - root_mean_squared_error: 7.8726 - val_loss: 119.7987 - val_mean_squared_error: 119.7988 - val_mean_absolute_error: 7.5693 - val_root_mean_squared_error: 10.9453\n",
            "Epoch 14/30\n",
            "28/28 [==============================] - 0s 6ms/step - loss: 63.0978 - mean_squared_error: 63.0978 - mean_absolute_error: 4.2779 - root_mean_squared_error: 7.9434 - val_loss: 106.5122 - val_mean_squared_error: 106.5122 - val_mean_absolute_error: 5.9849 - val_root_mean_squared_error: 10.3205\n",
            "Epoch 15/30\n",
            "28/28 [==============================] - 0s 6ms/step - loss: 62.7419 - mean_squared_error: 62.7419 - mean_absolute_error: 4.3030 - root_mean_squared_error: 7.9210 - val_loss: 109.1984 - val_mean_squared_error: 109.1984 - val_mean_absolute_error: 6.7335 - val_root_mean_squared_error: 10.4498\n",
            "Epoch 16/30\n",
            "28/28 [==============================] - 0s 6ms/step - loss: 60.7612 - mean_squared_error: 60.7612 - mean_absolute_error: 4.2124 - root_mean_squared_error: 7.7949 - val_loss: 102.4602 - val_mean_squared_error: 102.4602 - val_mean_absolute_error: 6.1854 - val_root_mean_squared_error: 10.1223\n",
            "Epoch 17/30\n",
            "28/28 [==============================] - 0s 6ms/step - loss: 63.3936 - mean_squared_error: 63.3936 - mean_absolute_error: 4.2429 - root_mean_squared_error: 7.9620 - val_loss: 105.6613 - val_mean_squared_error: 105.6612 - val_mean_absolute_error: 6.4431 - val_root_mean_squared_error: 10.2792\n",
            "Epoch 18/30\n",
            "28/28 [==============================] - 0s 6ms/step - loss: 64.7765 - mean_squared_error: 64.7765 - mean_absolute_error: 4.3150 - root_mean_squared_error: 8.0484 - val_loss: 106.3468 - val_mean_squared_error: 106.3468 - val_mean_absolute_error: 5.8520 - val_root_mean_squared_error: 10.3125\n",
            "Epoch 19/30\n",
            "28/28 [==============================] - 0s 6ms/step - loss: 57.4715 - mean_squared_error: 57.4715 - mean_absolute_error: 3.9188 - root_mean_squared_error: 7.5810 - val_loss: 106.8684 - val_mean_squared_error: 106.8684 - val_mean_absolute_error: 6.5286 - val_root_mean_squared_error: 10.3377\n",
            "Epoch 20/30\n",
            "28/28 [==============================] - 0s 6ms/step - loss: 59.4524 - mean_squared_error: 59.4524 - mean_absolute_error: 4.0943 - root_mean_squared_error: 7.7105 - val_loss: 109.2667 - val_mean_squared_error: 109.2667 - val_mean_absolute_error: 5.6095 - val_root_mean_squared_error: 10.4531\n",
            "Epoch 21/30\n",
            "28/28 [==============================] - 0s 6ms/step - loss: 58.7213 - mean_squared_error: 58.7213 - mean_absolute_error: 4.0435 - root_mean_squared_error: 7.6630 - val_loss: 105.2969 - val_mean_squared_error: 105.2969 - val_mean_absolute_error: 5.3995 - val_root_mean_squared_error: 10.2614\n",
            "Epoch 22/30\n",
            "28/28 [==============================] - 0s 6ms/step - loss: 60.4251 - mean_squared_error: 60.4251 - mean_absolute_error: 3.9691 - root_mean_squared_error: 7.7734 - val_loss: 99.5000 - val_mean_squared_error: 99.5000 - val_mean_absolute_error: 5.7051 - val_root_mean_squared_error: 9.9750\n",
            "Epoch 23/30\n",
            "28/28 [==============================] - 0s 6ms/step - loss: 59.8458 - mean_squared_error: 59.8458 - mean_absolute_error: 4.1238 - root_mean_squared_error: 7.7360 - val_loss: 100.4186 - val_mean_squared_error: 100.4186 - val_mean_absolute_error: 5.0455 - val_root_mean_squared_error: 10.0209\n",
            "Epoch 24/30\n",
            "28/28 [==============================] - 0s 6ms/step - loss: 59.6295 - mean_squared_error: 59.6295 - mean_absolute_error: 4.0101 - root_mean_squared_error: 7.7220 - val_loss: 99.0021 - val_mean_squared_error: 99.0021 - val_mean_absolute_error: 5.4939 - val_root_mean_squared_error: 9.9500\n",
            "Epoch 25/30\n",
            "28/28 [==============================] - 0s 6ms/step - loss: 56.8208 - mean_squared_error: 56.8208 - mean_absolute_error: 3.8807 - root_mean_squared_error: 7.5380 - val_loss: 98.9382 - val_mean_squared_error: 98.9381 - val_mean_absolute_error: 5.2054 - val_root_mean_squared_error: 9.9468\n",
            "Epoch 26/30\n",
            "28/28 [==============================] - 0s 6ms/step - loss: 59.1391 - mean_squared_error: 59.1391 - mean_absolute_error: 3.9709 - root_mean_squared_error: 7.6902 - val_loss: 109.9126 - val_mean_squared_error: 109.9126 - val_mean_absolute_error: 5.3659 - val_root_mean_squared_error: 10.4839\n",
            "Epoch 27/30\n",
            "28/28 [==============================] - 0s 6ms/step - loss: 58.6666 - mean_squared_error: 58.6666 - mean_absolute_error: 4.0326 - root_mean_squared_error: 7.6594 - val_loss: 105.9039 - val_mean_squared_error: 105.9039 - val_mean_absolute_error: 5.3820 - val_root_mean_squared_error: 10.2910\n",
            "Epoch 28/30\n",
            "28/28 [==============================] - 0s 6ms/step - loss: 57.5545 - mean_squared_error: 57.5545 - mean_absolute_error: 3.8559 - root_mean_squared_error: 7.5865 - val_loss: 109.5478 - val_mean_squared_error: 109.5478 - val_mean_absolute_error: 5.2991 - val_root_mean_squared_error: 10.4665\n",
            "Epoch 29/30\n",
            "28/28 [==============================] - 0s 6ms/step - loss: 61.5528 - mean_squared_error: 61.5528 - mean_absolute_error: 3.9148 - root_mean_squared_error: 7.8456 - val_loss: 102.0572 - val_mean_squared_error: 102.0572 - val_mean_absolute_error: 6.2391 - val_root_mean_squared_error: 10.1023\n",
            "Epoch 30/30\n",
            "28/28 [==============================] - 0s 6ms/step - loss: 61.3589 - mean_squared_error: 61.3589 - mean_absolute_error: 4.0114 - root_mean_squared_error: 7.8332 - val_loss: 107.8561 - val_mean_squared_error: 107.8561 - val_mean_absolute_error: 5.4479 - val_root_mean_squared_error: 10.3854\n"
          ]
        }
      ],
      "source": [
        "########################################## COMBINED MODEL ##########################################\n",
        "import tensorflow as tf\n",
        "from tensorflow.keras.models import Model\n",
        "from tensorflow.keras.optimizers import Adam\n",
        "from tensorflow.keras.layers import Input, LSTM, Dense, ReLU, Dropout, Concatenate, Masking, Conv1D, MaxPooling1D, BatchNormalization, RepeatVector, Lambda\n",
        "from tensorflow.keras.metrics import RootMeanSquaredError, MeanSquaredError, MeanAbsoluteError, MeanAbsolutePercentageError\n",
        "\n",
        "### LSTM layers for the blood pressure data\n",
        "\n",
        "### Combine the vital data\n",
        "vital_train = np.concatenate([bloodpressure.train_dataset, etCO2.train_dataset, spO2.train_dataset, hr.train_dataset], axis=2)\n",
        "vital_validation = np.concatenate([bloodpressure.validation_dataset, etCO2.validation_dataset, spO2.validation_dataset, hr.validation_dataset], axis=2)\n",
        "vital_test = np.concatenate([bloodpressure.test_dataset, etCO2.test_dataset, spO2.test_dataset, hr.test_dataset], axis=2)\n",
        "\n",
        "### LSTM layers for the vital data\n",
        "input_vital = Input(shape=(None, vital_train.shape[2]))\n",
        "vital_layer = Masking(mask_value=0.0)(input_vital)\n",
        "\n",
        "### INFO layers\n",
        "input_info = Input(shape=(info.train_dataset.shape[1],))\n",
        "info_layer = RepeatVector(vital_train.shape[1])(input_info)\n",
        "\n",
        "## Concatenate the LSTM output with the info layer\n",
        "comb_layer = Concatenate()([vital_layer, info_layer])\n",
        "#comb_layer = LSTM(units=32, return_sequences=True)(comb_layer)\n",
        "#comb_layer = BatchNormalization()(comb_layer)\n",
        "#comb_layer = LSTM(units=32, return_sequences=True)(comb_layer)\n",
        "#comb_layer = BatchNormalization()(comb_layer)\n",
        "#comb_layer = LSTM(units=32, return_sequences=True)(comb_layer)\n",
        "#comb_layer = BatchNormalization()(comb_layer)\n",
        "#comb_layer = Dense(units=128, activation='relu')(comb_layer)\n",
        "#comb_layer = BatchNormalization()(comb_layer)\n",
        "comb_layer = Dense(units=32, activation='relu')(comb_layer)\n",
        "comb_layer = BatchNormalization()(comb_layer)\n",
        "\n",
        "\n",
        "output = Dense(units=1, activation='sigmoid')(comb_layer)\n",
        "output = Lambda(lambda x: x * 100)(output)\n",
        "\n",
        "# Define the model\n",
        "model = Model(inputs=[input_vital, input_info], outputs=output)\n",
        "\n",
        "# Compile the model\n",
        "optimizer = Adam(learning_rate=0.01)\n",
        "\n",
        "model.compile(optimizer=optimizer,\n",
        "              loss=tf.keras.losses.MeanSquaredError(),\n",
        "              metrics=['MeanSquaredError','MeanAbsoluteError','RootMeanSquaredError']\n",
        "              )\n",
        "\n",
        "#model.summary()\n",
        "y = pd.DataFrame(bis.train_dataset[:,:,0].T).rolling(min_periods=1,window=20, center=True).mean().to_numpy().T[:,:,np.newaxis]\n",
        "\n",
        "# Train the model\n",
        "history = model.fit([vital_train, info.train_dataset],\n",
        "                    y,\n",
        "                    validation_data=([vital_validation, info.validation_dataset], bis.validation_dataset),\n",
        "                    epochs=30,\n",
        "                    batch_size=4\n",
        "                    )\n",
        "\n",
        "train_score = history.history"
      ]
    },
    {
      "cell_type": "code",
      "execution_count": 12,
      "metadata": {},
      "outputs": [
        {
          "data": {
            "image/png": "[encoded data removed]",
            "text/plain": [
              "<IPython.core.display.Image object>"
            ]
          },
          "execution_count": 12,
          "metadata": {},
          "output_type": "execute_result"
        }
      ],
      "source": [
        "from tensorflow.keras.utils import plot_model\n",
        "\n",
        "plot_model(model,\n",
        "    show_shapes=False,\n",
        "    show_dtype=False,\n",
        "    show_layer_names=False,\n",
        "    #rankdir=\"TB\",\n",
        "    expand_nested=False,\n",
        "    dpi=100,\n",
        "    show_layer_activations=False,\n",
        "    show_trainable=False\n",
        "    )"
      ]
    },
    {
      "cell_type": "markdown",
      "metadata": {},
      "source": [
        "# Training results"
      ]
    },
    {
      "cell_type": "code",
      "execution_count": null,
      "metadata": {},
      "outputs": [],
      "source": [
        "from utils.plotting import training_loss_plot\n",
        "\n",
        "### Training Summary\n",
        "plot = training_loss_plot(train_score)\n",
        "plot.show()"
      ]
    },
    {
      "cell_type": "markdown",
      "metadata": {},
      "source": [
        "# Testing"
      ]
    },
    {
      "cell_type": "code",
      "execution_count": null,
      "metadata": {},
      "outputs": [],
      "source": [
        "### Predict on the test set\n",
        "from utils.evaluation import phases_report\n",
        "\n",
        "y_pred =  model.predict([vital_test, info.test_dataset], verbose=0)\n",
        "\n",
        "phases_report(y_pred, bis.test_dataset, propofolrate.test_dataset)"
      ]
    },
    {
      "cell_type": "code",
      "execution_count": null,
      "metadata": {},
      "outputs": [],
      "source": [
        "from utils.evaluation import correlation\n",
        "\n",
        "test_correlation, baseline_correlation = correlation(bis.test_dataset, y_pred)"
      ]
    },
    {
      "cell_type": "code",
      "execution_count": null,
      "metadata": {},
      "outputs": [],
      "source": [
        "from utils.plotting import single_prediction_plot\n",
        "\n",
        "plot = single_prediction_plot(5, test_index, bis.test_dataset, y_pred)\n",
        "plot.show()"
      ]
    },
    {
      "cell_type": "code",
      "execution_count": null,
      "metadata": {},
      "outputs": [],
      "source": [
        "from utils.plotting import full_prediction_plot\n",
        "\n",
        "full_prediction_plot(test_index, bis.test_dataset, y_pred)"
      ]
    }
  ],
  "metadata": {
    "accelerator": "GPU",
    "colab": {
      "gpuType": "T4",
      "provenance": []
    },
    "kernelspec": {
      "display_name": "Python 3",
      "name": "python3"
    },
    "language_info": {
      "codemirror_mode": {
        "name": "ipython",
        "version": 3
      },
      "file_extension": ".py",
      "mimetype": "text/x-python",
      "name": "python",
      "nbconvert_exporter": "python",
      "pygments_lexer": "ipython3",
      "version": "3.11.7"
    }
  },
  "nbformat": 4,
  "nbformat_minor": 0
}
